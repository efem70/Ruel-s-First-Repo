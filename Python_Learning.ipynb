{
  "nbformat": 4,
  "nbformat_minor": 0,
  "metadata": {
    "colab": {
      "name": "Python Learning.ipynb",
      "version": "0.3.2",
      "provenance": [],
      "include_colab_link": true
    },
    "kernelspec": {
      "name": "python3",
      "display_name": "Python 3"
    },
    "accelerator": "GPU"
  },
  "cells": [
    {
      "cell_type": "markdown",
      "metadata": {
        "id": "view-in-github",
        "colab_type": "text"
      },
      "source": [
        "<a href=\"https://colab.research.google.com/github/efem70/Ruel-s-Training-Repo/blob/master/Python_Learning.ipynb\" target=\"_parent\"><img src=\"https://colab.research.google.com/assets/colab-badge.svg\" alt=\"Open In Colab\"/></a>"
      ]
    },
    {
      "metadata": {
        "id": "qEkjocpkKA_o",
        "colab_type": "code",
        "outputId": "6daea0d7-eb28-4f36-af0f-b12e428d69f1",
        "colab": {
          "base_uri": "https://localhost:8080/",
          "height": 34
        }
      },
      "cell_type": "code",
      "source": [
        "import sys\n",
        "print('Hello, Colaboratory from Python {}!'.format(sys.version_info[0]))\n"
      ],
      "execution_count": 0,
      "outputs": [
        {
          "output_type": "stream",
          "text": [
            "Hello, Colaboratory from Python 3!\n"
          ],
          "name": "stdout"
        }
      ]
    },
    {
      "metadata": {
        "id": "Y-zsEFPQca_Y",
        "colab_type": "code",
        "colab": {}
      },
      "cell_type": "code",
      "source": [
        ""
      ],
      "execution_count": 0,
      "outputs": []
    },
    {
      "metadata": {
        "id": "3jpFq08cKzr0",
        "colab_type": "code",
        "outputId": "d8a780fc-9e4d-4376-dae1-6f0bff124512",
        "colab": {
          "base_uri": "https://localhost:8080/",
          "height": 34
        }
      },
      "cell_type": "code",
      "source": [
        "def anagram(s1, s2):\n",
        "    \n",
        "    s1 = s1.replace(' ','').lower()\n",
        "    s2 = s2.replace(' ','').lower()\n",
        "    \n",
        "    return sorted(s1) == sorted(s2)\n",
        "\n",
        "anagram('clint eastwood', 'olds west action')\n"
      ],
      "execution_count": 0,
      "outputs": [
        {
          "output_type": "execute_result",
          "data": {
            "text/plain": [
              "False"
            ]
          },
          "metadata": {
            "tags": []
          },
          "execution_count": 1
        }
      ]
    },
    {
      "metadata": {
        "id": "4hUE1GByK0X1",
        "colab_type": "text"
      },
      "cell_type": "markdown",
      "source": [
        ""
      ]
    },
    {
      "metadata": {
        "id": "e3hUI895K2Al",
        "colab_type": "code",
        "outputId": "e939922a-ba56-4940-a56b-88930309d842",
        "colab": {
          "base_uri": "https://localhost:8080/",
          "height": 34
        }
      },
      "cell_type": "code",
      "source": [
        "def anagram2(s1, s2):\n",
        "    \n",
        "    s1 = s1.replace(' ','').lower()\n",
        "    s2 = s2.replace(' ','').lower()\n",
        "    \n",
        "    #Edge Case Check\n",
        "    if len(s1) != len(s2):\n",
        "        return False\n",
        "    \n",
        "    count = {}\n",
        "    \n",
        "    for letter in s1:\n",
        "        if letter in count:\n",
        "            count[letter] += 1\n",
        "        else: \n",
        "            count[letter] = 1\n",
        "    \n",
        "    for letter in s2:\n",
        "        if letter in count:\n",
        "            count[letter] -= 1\n",
        "        else:\n",
        "            count[letter] = 1\n",
        "    \n",
        "    for k in count:\n",
        "        if count[k] != 0:\n",
        "            return False\n",
        "    \n",
        "    return True\n",
        "\n",
        "anagram2('clint eastwood', 'old west action')\n"
      ],
      "execution_count": 0,
      "outputs": [
        {
          "output_type": "execute_result",
          "data": {
            "text/plain": [
              "True"
            ]
          },
          "metadata": {
            "tags": []
          },
          "execution_count": 2
        }
      ]
    },
    {
      "metadata": {
        "id": "aSt-X5_ScdCF",
        "colab_type": "code",
        "outputId": "bcb264df-c0e7-475e-aba1-ac36e922ee13",
        "colab": {
          "base_uri": "https://localhost:8080/",
          "height": 34
        }
      },
      "cell_type": "code",
      "source": [
        "1+1"
      ],
      "execution_count": 0,
      "outputs": [
        {
          "output_type": "execute_result",
          "data": {
            "text/plain": [
              "2"
            ]
          },
          "metadata": {
            "tags": []
          },
          "execution_count": 1
        }
      ]
    },
    {
      "metadata": {
        "id": "YN3fIGQPcw8l",
        "colab_type": "code",
        "outputId": "be864c13-20be-41e6-e072-925df70d7109",
        "colab": {
          "base_uri": "https://localhost:8080/",
          "height": 34
        }
      },
      "cell_type": "code",
      "source": [
        "def anagram2(s1, s2):\n",
        "    \n",
        "    s1 = s1.replace(' ','').lower()\n",
        "    s2 = s2.replace(' ','').lower()\n",
        "    \n",
        "    #Edge Case Check\n",
        "    if len(s1) != len(s2):\n",
        "        return False\n",
        "    \n",
        "    count = {}\n",
        "    \n",
        "    for letter in s1:\n",
        "        if letter in count:\n",
        "            count[letter] += 1\n",
        "        else: \n",
        "            count[letter] = 1\n",
        "    \n",
        "    for letter in s2:\n",
        "        if letter in count:\n",
        "            count[letter] -= 1\n",
        "        else:\n",
        "            count[letter] = 1\n",
        "    \n",
        "    for k in count:\n",
        "        if count[k] != 0:\n",
        "            return False\n",
        "    \n",
        "    return True\n",
        "\n",
        "anagram2('clint eastwood', 'old west action')\n"
      ],
      "execution_count": 0,
      "outputs": [
        {
          "output_type": "execute_result",
          "data": {
            "text/plain": [
              "True"
            ]
          },
          "metadata": {
            "tags": []
          },
          "execution_count": 2
        }
      ]
    },
    {
      "metadata": {
        "id": "e4oVu0kEc3YN",
        "colab_type": "code",
        "outputId": "b15558b1-3401-407f-e073-3683bcc12a14",
        "colab": {
          "base_uri": "https://localhost:8080/",
          "height": 34
        }
      },
      "cell_type": "code",
      "source": [
        "import numpy as np\n",
        "np.zeros(10)"
      ],
      "execution_count": 0,
      "outputs": [
        {
          "output_type": "execute_result",
          "data": {
            "text/plain": [
              "array([0., 0., 0., 0., 0., 0., 0., 0., 0., 0.])"
            ]
          },
          "metadata": {
            "tags": []
          },
          "execution_count": 4
        }
      ]
    },
    {
      "metadata": {
        "id": "fc3uFngjeNOW",
        "colab_type": "code",
        "outputId": "3f6f2dab-c440-422f-e799-29d2806aaaf5",
        "colab": {
          "base_uri": "https://localhost:8080/",
          "height": 34
        }
      },
      "cell_type": "code",
      "source": [
        "np.ones(10) * 5"
      ],
      "execution_count": 0,
      "outputs": [
        {
          "output_type": "execute_result",
          "data": {
            "text/plain": [
              "array([5., 5., 5., 5., 5., 5., 5., 5., 5., 5.])"
            ]
          },
          "metadata": {
            "tags": []
          },
          "execution_count": 5
        }
      ]
    },
    {
      "metadata": {
        "id": "dNvrAbCOwKXW",
        "colab_type": "code",
        "colab": {}
      },
      "cell_type": "code",
      "source": [
        "num = 12\n",
        "name = 'Sam'"
      ],
      "execution_count": 0,
      "outputs": []
    },
    {
      "metadata": {
        "id": "-7ny2pjBx03H",
        "colab_type": "code",
        "outputId": "54ad79b8-f135-4c17-afa9-a8bfb51eafaa",
        "colab": {
          "base_uri": "https://localhost:8080/",
          "height": 34
        }
      },
      "cell_type": "code",
      "source": [
        "print('My number is {} and my name is {}'.format(num,name))"
      ],
      "execution_count": 0,
      "outputs": [
        {
          "output_type": "stream",
          "text": [
            "My number is 5 and my name is bill\n"
          ],
          "name": "stdout"
        }
      ]
    },
    {
      "metadata": {
        "id": "1b_4VcXQyAoQ",
        "colab_type": "code",
        "outputId": "fa3ddd1d-52a2-4716-fc08-6d681b6496e8",
        "colab": {
          "base_uri": "https://localhost:8080/",
          "height": 34
        }
      },
      "cell_type": "code",
      "source": [
        "12 % 5\n"
      ],
      "execution_count": 0,
      "outputs": [
        {
          "output_type": "execute_result",
          "data": {
            "text/plain": [
              "2"
            ]
          },
          "metadata": {
            "tags": []
          },
          "execution_count": 7
        }
      ]
    },
    {
      "metadata": {
        "id": "YQ2tkAOoyV8X",
        "colab_type": "code",
        "outputId": "6f647bee-8886-4bca-896b-70ba130d1643",
        "colab": {
          "base_uri": "https://localhost:8080/",
          "height": 34
        }
      },
      "cell_type": "code",
      "source": [
        "x = 2\n",
        "y = 3\n",
        "x + y\n"
      ],
      "execution_count": 0,
      "outputs": [
        {
          "output_type": "execute_result",
          "data": {
            "text/plain": [
              "5"
            ]
          },
          "metadata": {
            "tags": []
          },
          "execution_count": 8
        }
      ]
    },
    {
      "metadata": {
        "id": "vJwUYhf1yveX",
        "colab_type": "code",
        "outputId": "6ddbd8fc-c39a-4066-baf0-3451c94bd87b",
        "colab": {
          "base_uri": "https://localhost:8080/",
          "height": 34
        }
      },
      "cell_type": "code",
      "source": [
        "# Strings\n",
        "'single quote'\n",
        "\"this is a string\"\n",
        "\"I can't go\""
      ],
      "execution_count": 0,
      "outputs": [
        {
          "output_type": "execute_result",
          "data": {
            "text/plain": [
              "\"I can't go\""
            ]
          },
          "metadata": {
            "tags": []
          },
          "execution_count": 12
        }
      ]
    },
    {
      "metadata": {
        "id": "UlleViENzOH_",
        "colab_type": "code",
        "outputId": "a31a00e0-7a9c-47d3-988d-7bd67cf9af1b",
        "colab": {
          "base_uri": "https://localhost:8080/",
          "height": 34
        }
      },
      "cell_type": "code",
      "source": [
        "x = 'hello'\n",
        "x\n",
        "print('x')"
      ],
      "execution_count": 6,
      "outputs": [
        {
          "output_type": "stream",
          "text": [
            "x\n"
          ],
          "name": "stdout"
        }
      ]
    },
    {
      "metadata": {
        "id": "rhKbBlh-zdI-",
        "colab_type": "code",
        "outputId": "ae728ea9-c3f1-4b2c-c7bc-4dc7228dc94e",
        "colab": {
          "base_uri": "https://localhost:8080/",
          "height": 34
        }
      },
      "cell_type": "code",
      "source": [
        "print(x)"
      ],
      "execution_count": 7,
      "outputs": [
        {
          "output_type": "stream",
          "text": [
            "hello\n"
          ],
          "name": "stdout"
        }
      ]
    },
    {
      "metadata": {
        "id": "v_INMClBz17p",
        "colab_type": "code",
        "outputId": "ef942a07-98b4-4391-a549-a11b307c3e39",
        "colab": {
          "base_uri": "https://localhost:8080/",
          "height": 34
        }
      },
      "cell_type": "code",
      "source": [
        "name = 'Bill'\n",
        "num = 5\n",
        "'My number is {} and my name is {}'.format(num, name)"
      ],
      "execution_count": 3,
      "outputs": [
        {
          "output_type": "execute_result",
          "data": {
            "text/plain": [
              "'My number is 5 and my name is Bill'"
            ]
          },
          "metadata": {
            "tags": []
          },
          "execution_count": 3
        }
      ]
    },
    {
      "metadata": {
        "id": "KNrFEcJ40X_3",
        "colab_type": "code",
        "outputId": "4df920f8-c192-4627-ca28-820ae47f59b2",
        "colab": {
          "base_uri": "https://localhost:8080/",
          "height": 34
        }
      },
      "cell_type": "code",
      "source": [
        "print('My number is {} and my name is {}'.format(num, name))"
      ],
      "execution_count": 4,
      "outputs": [
        {
          "output_type": "stream",
          "text": [
            "My number is 5 and my name is Bill\n"
          ],
          "name": "stdout"
        }
      ]
    }
  ]
}